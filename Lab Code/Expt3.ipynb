{
 "cells": [
  {
   "cell_type": "code",
   "execution_count": 2,
   "metadata": {
    "colab": {
     "base_uri": "https://localhost:8080/"
    },
    "id": "s80aXHfEaYXN",
    "outputId": "d7b6770f-1fde-46eb-a844-e60b876ff5fa"
   },
   "outputs": [
    {
     "name": "stdout",
     "output_type": "stream",
     "text": [
      "m: 4.384086248041721\n",
      "c: 12.770223271480628\n",
      "Sum of Residual Error: 116.57274715638619\n"
     ]
    }
   ],
   "source": [
    "#Implement Linear Regression and calculate sum of error on the following data sets.\n",
    "# y = 4x +13 +w\n",
    "\n",
    "import numpy as np\n",
    "\n",
    "#Generate data with noise\n",
    "x = np.random.rand(100,1)\n",
    "y = 4*x +13 + np.random.normal(0, 1, (100,1))\n",
    "\n",
    "#Calculate Coefficients\n",
    "x_mean = np.mean(x)\n",
    "y_mean = np.mean(y)\n",
    "numerator = np.sum((x-x_mean)*(y-y_mean))\n",
    "denominator = np.sum(np.square(x-x_mean))\n",
    "m = numerator/denominator\n",
    "c = y_mean - m*x_mean\n",
    "\n",
    "#Make Predictions\n",
    "y_pred = m*x + c\n",
    "\n",
    "#Calculate sum of residual error\n",
    "residuals = y - y_pred\n",
    "sum_of_residuals = np.sum(np.square(residuals))\n",
    "\n",
    "print(\"m:\", m)\n",
    "print(\"c:\", c)\n",
    "print(\"Sum of Residual Error:\", sum_of_residuals)\n"
   ]
  }
 ],
 "metadata": {
  "colab": {
   "provenance": []
  },
  "kernelspec": {
   "display_name": "Python 3 (ipykernel)",
   "language": "python",
   "name": "python3"
  },
  "language_info": {
   "codemirror_mode": {
    "name": "ipython",
    "version": 3
   },
   "file_extension": ".py",
   "mimetype": "text/x-python",
   "name": "python",
   "nbconvert_exporter": "python",
   "pygments_lexer": "ipython3",
   "version": "3.9.13"
  }
 },
 "nbformat": 4,
 "nbformat_minor": 1
}
