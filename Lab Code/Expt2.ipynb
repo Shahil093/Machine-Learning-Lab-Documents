{
 "cells": [
  {
   "cell_type": "code",
   "execution_count": 1,
   "metadata": {},
   "outputs": [
    {
     "name": "stdout",
     "output_type": "stream",
     "text": [
      "[[9. 9. 9.]\n",
      " [9. 9. 9.]\n",
      " [9. 9. 9.]]\n"
     ]
    }
   ],
   "source": [
    "import numpy as np\n",
    "\n",
    "# Create a sample matrix\n",
    "X = np.array([[1, 2, 3], [4, 5, 6], [7, 8, 9]])\n",
    "\n",
    "# Calculate the covariance matrix\n",
    "covariance_matrix = np.cov(X, rowvar=False)\n",
    "\n",
    "print(covariance_matrix)\n"
   ]
  },
  {
   "cell_type": "code",
   "execution_count": 3,
   "metadata": {},
   "outputs": [],
   "source": [
    "# Generate a sample from the multivariate normal distribution\n",
    "mean = 0\n",
    "std_dev = 1\n",
    "sample_normal = np.random.normal(mean, std_dev, size=X.shape)"
   ]
  },
  {
   "cell_type": "code",
   "execution_count": 4,
   "metadata": {},
   "outputs": [],
   "source": [
    "low = 0\n",
    "high = 1\n",
    "sample_uniform = np.random.uniform(low, high, size=X.shape)"
   ]
  },
  {
   "cell_type": "code",
   "execution_count": 5,
   "metadata": {},
   "outputs": [],
   "source": [
    "lam = 1\n",
    "sample_exponential = np.random.exponential(lam, size=X.shape)\n",
    "\n",
    "# Generate a sample from the Poisson distribution\n",
    "lam = 1\n",
    "sample_poisson = np.random.poisson(lam, size=X.shape)"
   ]
  },
  {
   "cell_type": "code",
   "execution_count": 6,
   "metadata": {},
   "outputs": [
    {
     "name": "stdout",
     "output_type": "stream",
     "text": [
      "[[-0.84488697  1.06930797  0.13571797]\n",
      " [ 0.46261119  0.97073091  0.63785754]\n",
      " [ 0.02840411 -1.32743153  0.31199868]]\n",
      "[[0.27748392 0.61203959 0.99988999]\n",
      " [0.85785944 0.40831982 0.86994687]\n",
      " [0.63886735 0.59473939 0.74558343]]\n",
      "[[0.59196906 0.5386319  0.24305325]\n",
      " [0.436739   0.11819263 2.54021747]\n",
      " [0.09447237 1.99231794 2.62121341]]\n",
      "[[2 0 0]\n",
      " [1 2 1]\n",
      " [1 1 1]]\n"
     ]
    }
   ],
   "source": [
    "\n",
    "print(sample_normal)\n",
    "print(sample_uniform)\n",
    "print(sample_exponential)\n",
    "print(sample_poisson)"
   ]
  }
 ],
 "metadata": {
  "kernelspec": {
   "display_name": "Python 3 (ipykernel)",
   "language": "python",
   "name": "python3"
  },
  "language_info": {
   "codemirror_mode": {
    "name": "ipython",
    "version": 3
   },
   "file_extension": ".py",
   "mimetype": "text/x-python",
   "name": "python",
   "nbconvert_exporter": "python",
   "pygments_lexer": "ipython3",
   "version": "3.9.13"
  },
  "vscode": {
   "interpreter": {
    "hash": "7c7a4dcc6963e04abc7b2bd63d95060c5751ab1f3e87f271efcd60927a6119cf"
   }
  }
 },
 "nbformat": 4,
 "nbformat_minor": 2
}
