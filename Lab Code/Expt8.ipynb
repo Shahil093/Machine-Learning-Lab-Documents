{
 "cells": [
  {
   "cell_type": "code",
   "execution_count": null,
   "metadata": {
    "id": "X6S8tsnDhonj"
   },
   "outputs": [],
   "source": [
    "import matplotlib.pyplot as plt\n",
    "import numpy as np\n",
    "import pandas as pd\n",
    "import seaborn as sns\n",
    "%matplotlib inline\n",
    "\n",
    "from sklearn.model_selection import train_test_split , KFold\n",
    "from sklearn.preprocessing import Normalizer\n",
    "from sklearn.metrics import accuracy_score\n",
    "from sklearn.neighbors import KNeighborsClassifier\n",
    "from sklearn.metrics import roc_curve, roc_auc_score\n",
    "\n",
    "from collections import Counter\n",
    "\n"
   ]
  },
  {
   "cell_type": "code",
   "execution_count": null,
   "metadata": {
    "id": "oLouwUQLiiUt"
   },
   "outputs": [],
   "source": [
    "df = pd.read_csv('Expri_Dataset (1).csv')"
   ]
  },
  {
   "cell_type": "code",
   "execution_count": null,
   "metadata": {
    "colab": {
     "base_uri": "https://localhost:8080/"
    },
    "id": "ygKl_hnsksxd",
    "outputId": "c3b867d8-54d5-42cb-af93-e9c80001a249"
   },
   "outputs": [
    {
     "data": {
      "text/plain": [
       "Index(['A1', 'A2', 'A3', 'A4', 'A5', 'A6', 'A7', 'A8', 'A9', 'A10', 'A11',\n",
       "       'A12', 'A13', 'A14', 'Class'],\n",
       "      dtype='object')"
      ]
     },
     "execution_count": 3,
     "metadata": {},
     "output_type": "execute_result"
    }
   ],
   "source": [
    "df.keys()"
   ]
  },
  {
   "cell_type": "code",
   "execution_count": null,
   "metadata": {
    "colab": {
     "base_uri": "https://localhost:8080/",
     "height": 363
    },
    "id": "_Dkd2_teliwe",
    "outputId": "fc7cfe92-5725-4233-af98-5eb7f950cc6e"
   },
   "outputs": [
    {
     "data": {
      "text/html": [
       "\n",
       "  <div id=\"df-4d2e40b3-abbf-4ce3-8f8b-b923533f272e\">\n",
       "    <div class=\"colab-df-container\">\n",
       "      <div>\n",
       "<style scoped>\n",
       "    .dataframe tbody tr th:only-of-type {\n",
       "        vertical-align: middle;\n",
       "    }\n",
       "\n",
       "    .dataframe tbody tr th {\n",
       "        vertical-align: top;\n",
       "    }\n",
       "\n",
       "    .dataframe thead th {\n",
       "        text-align: right;\n",
       "    }\n",
       "</style>\n",
       "<table border=\"1\" class=\"dataframe\">\n",
       "  <thead>\n",
       "    <tr style=\"text-align: right;\">\n",
       "      <th></th>\n",
       "      <th>A1</th>\n",
       "      <th>A2</th>\n",
       "      <th>A3</th>\n",
       "      <th>A4</th>\n",
       "      <th>A5</th>\n",
       "      <th>A6</th>\n",
       "      <th>A7</th>\n",
       "      <th>A8</th>\n",
       "      <th>A9</th>\n",
       "      <th>A10</th>\n",
       "      <th>A11</th>\n",
       "      <th>A12</th>\n",
       "      <th>A13</th>\n",
       "      <th>A14</th>\n",
       "      <th>Class</th>\n",
       "    </tr>\n",
       "  </thead>\n",
       "  <tbody>\n",
       "    <tr>\n",
       "      <th>0</th>\n",
       "      <td>0.000286</td>\n",
       "      <td>1.519145</td>\n",
       "      <td>0.000887</td>\n",
       "      <td>1.795573</td>\n",
       "      <td>0.000060</td>\n",
       "      <td>1.035119</td>\n",
       "      <td>0.001943</td>\n",
       "      <td>2.353083</td>\n",
       "      <td>0.007488</td>\n",
       "      <td>2.506212</td>\n",
       "      <td>0.000891</td>\n",
       "      <td>1.878569</td>\n",
       "      <td>2.574750</td>\n",
       "      <td>1.922121</td>\n",
       "      <td>True</td>\n",
       "    </tr>\n",
       "    <tr>\n",
       "      <th>1</th>\n",
       "      <td>0.000201</td>\n",
       "      <td>1.396803</td>\n",
       "      <td>0.000802</td>\n",
       "      <td>1.506190</td>\n",
       "      <td>0.000048</td>\n",
       "      <td>0.865181</td>\n",
       "      <td>0.001421</td>\n",
       "      <td>2.245061</td>\n",
       "      <td>0.007157</td>\n",
       "      <td>2.171035</td>\n",
       "      <td>0.000734</td>\n",
       "      <td>1.679726</td>\n",
       "      <td>1.770226</td>\n",
       "      <td>2.034724</td>\n",
       "      <td>True</td>\n",
       "    </tr>\n",
       "    <tr>\n",
       "      <th>2</th>\n",
       "      <td>0.000245</td>\n",
       "      <td>1.505849</td>\n",
       "      <td>0.000824</td>\n",
       "      <td>1.721787</td>\n",
       "      <td>0.000055</td>\n",
       "      <td>1.001181</td>\n",
       "      <td>0.001641</td>\n",
       "      <td>2.276966</td>\n",
       "      <td>0.007108</td>\n",
       "      <td>2.400657</td>\n",
       "      <td>0.000836</td>\n",
       "      <td>1.834776</td>\n",
       "      <td>1.782286</td>\n",
       "      <td>1.746936</td>\n",
       "      <td>True</td>\n",
       "    </tr>\n",
       "    <tr>\n",
       "      <th>3</th>\n",
       "      <td>0.000213</td>\n",
       "      <td>1.510623</td>\n",
       "      <td>0.000759</td>\n",
       "      <td>2.028541</td>\n",
       "      <td>0.000049</td>\n",
       "      <td>0.984888</td>\n",
       "      <td>0.001457</td>\n",
       "      <td>2.341665</td>\n",
       "      <td>0.006437</td>\n",
       "      <td>2.989322</td>\n",
       "      <td>0.000662</td>\n",
       "      <td>1.861950</td>\n",
       "      <td>1.793722</td>\n",
       "      <td>2.117791</td>\n",
       "      <td>True</td>\n",
       "    </tr>\n",
       "    <tr>\n",
       "      <th>4</th>\n",
       "      <td>0.000251</td>\n",
       "      <td>1.542969</td>\n",
       "      <td>0.000923</td>\n",
       "      <td>2.005357</td>\n",
       "      <td>0.000068</td>\n",
       "      <td>1.021463</td>\n",
       "      <td>0.001600</td>\n",
       "      <td>2.333618</td>\n",
       "      <td>0.007113</td>\n",
       "      <td>2.846943</td>\n",
       "      <td>0.000853</td>\n",
       "      <td>1.882261</td>\n",
       "      <td>1.908964</td>\n",
       "      <td>2.109222</td>\n",
       "      <td>True</td>\n",
       "    </tr>\n",
       "    <tr>\n",
       "      <th>5</th>\n",
       "      <td>0.000209</td>\n",
       "      <td>1.524177</td>\n",
       "      <td>0.000541</td>\n",
       "      <td>1.802984</td>\n",
       "      <td>0.000051</td>\n",
       "      <td>1.023522</td>\n",
       "      <td>0.001271</td>\n",
       "      <td>2.301941</td>\n",
       "      <td>0.003957</td>\n",
       "      <td>2.555441</td>\n",
       "      <td>0.000604</td>\n",
       "      <td>1.895721</td>\n",
       "      <td>1.888885</td>\n",
       "      <td>2.275855</td>\n",
       "      <td>True</td>\n",
       "    </tr>\n",
       "    <tr>\n",
       "      <th>6</th>\n",
       "      <td>0.000298</td>\n",
       "      <td>1.089213</td>\n",
       "      <td>0.001045</td>\n",
       "      <td>1.896271</td>\n",
       "      <td>0.000043</td>\n",
       "      <td>0.756964</td>\n",
       "      <td>0.002153</td>\n",
       "      <td>1.842233</td>\n",
       "      <td>0.010523</td>\n",
       "      <td>2.979812</td>\n",
       "      <td>0.000736</td>\n",
       "      <td>1.455951</td>\n",
       "      <td>2.582874</td>\n",
       "      <td>1.982692</td>\n",
       "      <td>True</td>\n",
       "    </tr>\n",
       "    <tr>\n",
       "      <th>7</th>\n",
       "      <td>0.000295</td>\n",
       "      <td>1.211168</td>\n",
       "      <td>0.000701</td>\n",
       "      <td>1.592164</td>\n",
       "      <td>0.000035</td>\n",
       "      <td>0.724462</td>\n",
       "      <td>0.002136</td>\n",
       "      <td>2.066001</td>\n",
       "      <td>0.007316</td>\n",
       "      <td>2.409109</td>\n",
       "      <td>0.000484</td>\n",
       "      <td>1.401803</td>\n",
       "      <td>2.710268</td>\n",
       "      <td>2.016661</td>\n",
       "      <td>True</td>\n",
       "    </tr>\n",
       "    <tr>\n",
       "      <th>8</th>\n",
       "      <td>0.000248</td>\n",
       "      <td>1.505956</td>\n",
       "      <td>0.000673</td>\n",
       "      <td>1.706046</td>\n",
       "      <td>0.000051</td>\n",
       "      <td>1.006302</td>\n",
       "      <td>0.001589</td>\n",
       "      <td>2.288230</td>\n",
       "      <td>0.005503</td>\n",
       "      <td>2.362383</td>\n",
       "      <td>0.000757</td>\n",
       "      <td>1.857861</td>\n",
       "      <td>1.825361</td>\n",
       "      <td>2.008827</td>\n",
       "      <td>True</td>\n",
       "    </tr>\n",
       "    <tr>\n",
       "      <th>9</th>\n",
       "      <td>0.000247</td>\n",
       "      <td>1.525217</td>\n",
       "      <td>0.000751</td>\n",
       "      <td>2.070327</td>\n",
       "      <td>0.000052</td>\n",
       "      <td>1.051607</td>\n",
       "      <td>0.001614</td>\n",
       "      <td>2.278909</td>\n",
       "      <td>0.006329</td>\n",
       "      <td>3.010688</td>\n",
       "      <td>0.000746</td>\n",
       "      <td>1.901740</td>\n",
       "      <td>1.956299</td>\n",
       "      <td>2.281248</td>\n",
       "      <td>True</td>\n",
       "    </tr>\n",
       "  </tbody>\n",
       "</table>\n",
       "</div>\n",
       "      <button class=\"colab-df-convert\" onclick=\"convertToInteractive('df-4d2e40b3-abbf-4ce3-8f8b-b923533f272e')\"\n",
       "              title=\"Convert this dataframe to an interactive table.\"\n",
       "              style=\"display:none;\">\n",
       "        \n",
       "  <svg xmlns=\"http://www.w3.org/2000/svg\" height=\"24px\"viewBox=\"0 0 24 24\"\n",
       "       width=\"24px\">\n",
       "    <path d=\"M0 0h24v24H0V0z\" fill=\"none\"/>\n",
       "    <path d=\"M18.56 5.44l.94 2.06.94-2.06 2.06-.94-2.06-.94-.94-2.06-.94 2.06-2.06.94zm-11 1L8.5 8.5l.94-2.06 2.06-.94-2.06-.94L8.5 2.5l-.94 2.06-2.06.94zm10 10l.94 2.06.94-2.06 2.06-.94-2.06-.94-.94-2.06-.94 2.06-2.06.94z\"/><path d=\"M17.41 7.96l-1.37-1.37c-.4-.4-.92-.59-1.43-.59-.52 0-1.04.2-1.43.59L10.3 9.45l-7.72 7.72c-.78.78-.78 2.05 0 2.83L4 21.41c.39.39.9.59 1.41.59.51 0 1.02-.2 1.41-.59l7.78-7.78 2.81-2.81c.8-.78.8-2.07 0-2.86zM5.41 20L4 18.59l7.72-7.72 1.47 1.35L5.41 20z\"/>\n",
       "  </svg>\n",
       "      </button>\n",
       "      \n",
       "  <style>\n",
       "    .colab-df-container {\n",
       "      display:flex;\n",
       "      flex-wrap:wrap;\n",
       "      gap: 12px;\n",
       "    }\n",
       "\n",
       "    .colab-df-convert {\n",
       "      background-color: #E8F0FE;\n",
       "      border: none;\n",
       "      border-radius: 50%;\n",
       "      cursor: pointer;\n",
       "      display: none;\n",
       "      fill: #1967D2;\n",
       "      height: 32px;\n",
       "      padding: 0 0 0 0;\n",
       "      width: 32px;\n",
       "    }\n",
       "\n",
       "    .colab-df-convert:hover {\n",
       "      background-color: #E2EBFA;\n",
       "      box-shadow: 0px 1px 2px rgba(60, 64, 67, 0.3), 0px 1px 3px 1px rgba(60, 64, 67, 0.15);\n",
       "      fill: #174EA6;\n",
       "    }\n",
       "\n",
       "    [theme=dark] .colab-df-convert {\n",
       "      background-color: #3B4455;\n",
       "      fill: #D2E3FC;\n",
       "    }\n",
       "\n",
       "    [theme=dark] .colab-df-convert:hover {\n",
       "      background-color: #434B5C;\n",
       "      box-shadow: 0px 1px 3px 1px rgba(0, 0, 0, 0.15);\n",
       "      filter: drop-shadow(0px 1px 2px rgba(0, 0, 0, 0.3));\n",
       "      fill: #FFFFFF;\n",
       "    }\n",
       "  </style>\n",
       "\n",
       "      <script>\n",
       "        const buttonEl =\n",
       "          document.querySelector('#df-4d2e40b3-abbf-4ce3-8f8b-b923533f272e button.colab-df-convert');\n",
       "        buttonEl.style.display =\n",
       "          google.colab.kernel.accessAllowed ? 'block' : 'none';\n",
       "\n",
       "        async function convertToInteractive(key) {\n",
       "          const element = document.querySelector('#df-4d2e40b3-abbf-4ce3-8f8b-b923533f272e');\n",
       "          const dataTable =\n",
       "            await google.colab.kernel.invokeFunction('convertToInteractive',\n",
       "                                                     [key], {});\n",
       "          if (!dataTable) return;\n",
       "\n",
       "          const docLinkHtml = 'Like what you see? Visit the ' +\n",
       "            '<a target=\"_blank\" href=https://colab.research.google.com/notebooks/data_table.ipynb>data table notebook</a>'\n",
       "            + ' to learn more about interactive tables.';\n",
       "          element.innerHTML = '';\n",
       "          dataTable['output_type'] = 'display_data';\n",
       "          await google.colab.output.renderOutput(dataTable, element);\n",
       "          const docLink = document.createElement('div');\n",
       "          docLink.innerHTML = docLinkHtml;\n",
       "          element.appendChild(docLink);\n",
       "        }\n",
       "      </script>\n",
       "    </div>\n",
       "  </div>\n",
       "  "
      ],
      "text/plain": [
       "         A1        A2        A3        A4        A5        A6        A7  \\\n",
       "0  0.000286  1.519145  0.000887  1.795573  0.000060  1.035119  0.001943   \n",
       "1  0.000201  1.396803  0.000802  1.506190  0.000048  0.865181  0.001421   \n",
       "2  0.000245  1.505849  0.000824  1.721787  0.000055  1.001181  0.001641   \n",
       "3  0.000213  1.510623  0.000759  2.028541  0.000049  0.984888  0.001457   \n",
       "4  0.000251  1.542969  0.000923  2.005357  0.000068  1.021463  0.001600   \n",
       "5  0.000209  1.524177  0.000541  1.802984  0.000051  1.023522  0.001271   \n",
       "6  0.000298  1.089213  0.001045  1.896271  0.000043  0.756964  0.002153   \n",
       "7  0.000295  1.211168  0.000701  1.592164  0.000035  0.724462  0.002136   \n",
       "8  0.000248  1.505956  0.000673  1.706046  0.000051  1.006302  0.001589   \n",
       "9  0.000247  1.525217  0.000751  2.070327  0.000052  1.051607  0.001614   \n",
       "\n",
       "         A8        A9       A10       A11       A12       A13       A14  Class  \n",
       "0  2.353083  0.007488  2.506212  0.000891  1.878569  2.574750  1.922121   True  \n",
       "1  2.245061  0.007157  2.171035  0.000734  1.679726  1.770226  2.034724   True  \n",
       "2  2.276966  0.007108  2.400657  0.000836  1.834776  1.782286  1.746936   True  \n",
       "3  2.341665  0.006437  2.989322  0.000662  1.861950  1.793722  2.117791   True  \n",
       "4  2.333618  0.007113  2.846943  0.000853  1.882261  1.908964  2.109222   True  \n",
       "5  2.301941  0.003957  2.555441  0.000604  1.895721  1.888885  2.275855   True  \n",
       "6  1.842233  0.010523  2.979812  0.000736  1.455951  2.582874  1.982692   True  \n",
       "7  2.066001  0.007316  2.409109  0.000484  1.401803  2.710268  2.016661   True  \n",
       "8  2.288230  0.005503  2.362383  0.000757  1.857861  1.825361  2.008827   True  \n",
       "9  2.278909  0.006329  3.010688  0.000746  1.901740  1.956299  2.281248   True  "
      ]
     },
     "execution_count": 4,
     "metadata": {},
     "output_type": "execute_result"
    }
   ],
   "source": [
    "df.head(10)"
   ]
  },
  {
   "cell_type": "code",
   "execution_count": null,
   "metadata": {
    "id": "8EdmdWudmUsn"
   },
   "outputs": [],
   "source": [
    "from sklearn.preprocessing import MinMaxScaler"
   ]
  },
  {
   "cell_type": "code",
   "execution_count": null,
   "metadata": {
    "id": "F54lg-s4mWE4"
   },
   "outputs": [],
   "source": [
    "from sklearn.preprocessing import StandardScaler"
   ]
  },
  {
   "cell_type": "code",
   "execution_count": null,
   "metadata": {
    "colab": {
     "base_uri": "https://localhost:8080/",
     "height": 74
    },
    "id": "5-xHtOTLmcOo",
    "outputId": "378004c0-a45d-4d14-b2d1-127a77db2044"
   },
   "outputs": [
    {
     "data": {
      "text/html": [
       "<style>#sk-container-id-1 {color: black;background-color: white;}#sk-container-id-1 pre{padding: 0;}#sk-container-id-1 div.sk-toggleable {background-color: white;}#sk-container-id-1 label.sk-toggleable__label {cursor: pointer;display: block;width: 100%;margin-bottom: 0;padding: 0.3em;box-sizing: border-box;text-align: center;}#sk-container-id-1 label.sk-toggleable__label-arrow:before {content: \"▸\";float: left;margin-right: 0.25em;color: #696969;}#sk-container-id-1 label.sk-toggleable__label-arrow:hover:before {color: black;}#sk-container-id-1 div.sk-estimator:hover label.sk-toggleable__label-arrow:before {color: black;}#sk-container-id-1 div.sk-toggleable__content {max-height: 0;max-width: 0;overflow: hidden;text-align: left;background-color: #f0f8ff;}#sk-container-id-1 div.sk-toggleable__content pre {margin: 0.2em;color: black;border-radius: 0.25em;background-color: #f0f8ff;}#sk-container-id-1 input.sk-toggleable__control:checked~div.sk-toggleable__content {max-height: 200px;max-width: 100%;overflow: auto;}#sk-container-id-1 input.sk-toggleable__control:checked~label.sk-toggleable__label-arrow:before {content: \"▾\";}#sk-container-id-1 div.sk-estimator input.sk-toggleable__control:checked~label.sk-toggleable__label {background-color: #d4ebff;}#sk-container-id-1 div.sk-label input.sk-toggleable__control:checked~label.sk-toggleable__label {background-color: #d4ebff;}#sk-container-id-1 input.sk-hidden--visually {border: 0;clip: rect(1px 1px 1px 1px);clip: rect(1px, 1px, 1px, 1px);height: 1px;margin: -1px;overflow: hidden;padding: 0;position: absolute;width: 1px;}#sk-container-id-1 div.sk-estimator {font-family: monospace;background-color: #f0f8ff;border: 1px dotted black;border-radius: 0.25em;box-sizing: border-box;margin-bottom: 0.5em;}#sk-container-id-1 div.sk-estimator:hover {background-color: #d4ebff;}#sk-container-id-1 div.sk-parallel-item::after {content: \"\";width: 100%;border-bottom: 1px solid gray;flex-grow: 1;}#sk-container-id-1 div.sk-label:hover label.sk-toggleable__label {background-color: #d4ebff;}#sk-container-id-1 div.sk-serial::before {content: \"\";position: absolute;border-left: 1px solid gray;box-sizing: border-box;top: 0;bottom: 0;left: 50%;z-index: 0;}#sk-container-id-1 div.sk-serial {display: flex;flex-direction: column;align-items: center;background-color: white;padding-right: 0.2em;padding-left: 0.2em;position: relative;}#sk-container-id-1 div.sk-item {position: relative;z-index: 1;}#sk-container-id-1 div.sk-parallel {display: flex;align-items: stretch;justify-content: center;background-color: white;position: relative;}#sk-container-id-1 div.sk-item::before, #sk-container-id-1 div.sk-parallel-item::before {content: \"\";position: absolute;border-left: 1px solid gray;box-sizing: border-box;top: 0;bottom: 0;left: 50%;z-index: -1;}#sk-container-id-1 div.sk-parallel-item {display: flex;flex-direction: column;z-index: 1;position: relative;background-color: white;}#sk-container-id-1 div.sk-parallel-item:first-child::after {align-self: flex-end;width: 50%;}#sk-container-id-1 div.sk-parallel-item:last-child::after {align-self: flex-start;width: 50%;}#sk-container-id-1 div.sk-parallel-item:only-child::after {width: 0;}#sk-container-id-1 div.sk-dashed-wrapped {border: 1px dashed gray;margin: 0 0.4em 0.5em 0.4em;box-sizing: border-box;padding-bottom: 0.4em;background-color: white;}#sk-container-id-1 div.sk-label label {font-family: monospace;font-weight: bold;display: inline-block;line-height: 1.2em;}#sk-container-id-1 div.sk-label-container {text-align: center;}#sk-container-id-1 div.sk-container {/* jupyter's `normalize.less` sets `[hidden] { display: none; }` but bootstrap.min.css set `[hidden] { display: none !important; }` so we also need the `!important` here to be able to override the default hidden behavior on the sphinx rendered scikit-learn.org. See: https://github.com/scikit-learn/scikit-learn/issues/21755 */display: inline-block !important;position: relative;}#sk-container-id-1 div.sk-text-repr-fallback {display: none;}</style><div id=\"sk-container-id-1\" class=\"sk-top-container\"><div class=\"sk-text-repr-fallback\"><pre>StandardScaler()</pre><b>In a Jupyter environment, please rerun this cell to show the HTML representation or trust the notebook. <br />On GitHub, the HTML representation is unable to render, please try loading this page with nbviewer.org.</b></div><div class=\"sk-container\" hidden><div class=\"sk-item\"><div class=\"sk-estimator sk-toggleable\"><input class=\"sk-toggleable__control sk-hidden--visually\" id=\"sk-estimator-id-1\" type=\"checkbox\" checked><label for=\"sk-estimator-id-1\" class=\"sk-toggleable__label sk-toggleable__label-arrow\">StandardScaler</label><div class=\"sk-toggleable__content\"><pre>StandardScaler()</pre></div></div></div></div></div>"
      ],
      "text/plain": [
       "StandardScaler()"
      ]
     },
     "execution_count": 7,
     "metadata": {},
     "output_type": "execute_result"
    }
   ],
   "source": [
    "scaler=StandardScaler()\n",
    "scaler.fit(df)"
   ]
  },
  {
   "cell_type": "code",
   "execution_count": null,
   "metadata": {
    "id": "JtczfNqRm2MT"
   },
   "outputs": [],
   "source": [
    "scaled_data= scaler.transform(df)"
   ]
  },
  {
   "cell_type": "code",
   "execution_count": null,
   "metadata": {
    "colab": {
     "base_uri": "https://localhost:8080/"
    },
    "id": "4NFf6rYMm5Ks",
    "outputId": "70d4d727-22ae-419a-9d97-31315f3199da"
   },
   "outputs": [
    {
     "data": {
      "text/plain": [
       "array([[ 0.41544532,  1.0693801 ,  0.06835764, ...,  0.49446675,\n",
       "        -0.30783169,  1.70065151],\n",
       "       [-0.90761641,  0.35180072, -0.20921452, ..., -0.97354798,\n",
       "        -0.04645593,  1.70065151],\n",
       "       [-0.22071323,  0.99139124, -0.13955214, ..., -0.95154215,\n",
       "        -0.71447458,  1.70065151],\n",
       "       ...,\n",
       "       [-1.1715228 , -0.38863276, -0.7996348 , ..., -0.7563127 ,\n",
       "         0.42977417, -0.58800994],\n",
       "       [-1.31577559, -0.87231212, -0.9806733 , ..., -1.04664737,\n",
       "        -0.13414208, -0.58800994],\n",
       "       [ 0.93487094, -0.42405758,  0.20972179, ...,  1.08543549,\n",
       "        -0.05610942, -0.58800994]])"
      ]
     },
     "execution_count": 9,
     "metadata": {},
     "output_type": "execute_result"
    }
   ],
   "source": [
    "scaled_data"
   ]
  },
  {
   "cell_type": "code",
   "execution_count": null,
   "metadata": {
    "id": "ZY8PU0bfnBUT"
   },
   "outputs": [],
   "source": [
    "from sklearn.decomposition import PCA"
   ]
  },
  {
   "cell_type": "code",
   "execution_count": null,
   "metadata": {
    "id": "q7ZtmuJHnJlg"
   },
   "outputs": [],
   "source": [
    "pca=PCA(n_components=2)"
   ]
  },
  {
   "cell_type": "code",
   "execution_count": null,
   "metadata": {
    "colab": {
     "base_uri": "https://localhost:8080/",
     "height": 74
    },
    "id": "jpD8nbxDnPnb",
    "outputId": "5c876df0-6c58-4187-ff44-8e75356d8edb"
   },
   "outputs": [
    {
     "data": {
      "text/html": [
       "<style>#sk-container-id-2 {color: black;background-color: white;}#sk-container-id-2 pre{padding: 0;}#sk-container-id-2 div.sk-toggleable {background-color: white;}#sk-container-id-2 label.sk-toggleable__label {cursor: pointer;display: block;width: 100%;margin-bottom: 0;padding: 0.3em;box-sizing: border-box;text-align: center;}#sk-container-id-2 label.sk-toggleable__label-arrow:before {content: \"▸\";float: left;margin-right: 0.25em;color: #696969;}#sk-container-id-2 label.sk-toggleable__label-arrow:hover:before {color: black;}#sk-container-id-2 div.sk-estimator:hover label.sk-toggleable__label-arrow:before {color: black;}#sk-container-id-2 div.sk-toggleable__content {max-height: 0;max-width: 0;overflow: hidden;text-align: left;background-color: #f0f8ff;}#sk-container-id-2 div.sk-toggleable__content pre {margin: 0.2em;color: black;border-radius: 0.25em;background-color: #f0f8ff;}#sk-container-id-2 input.sk-toggleable__control:checked~div.sk-toggleable__content {max-height: 200px;max-width: 100%;overflow: auto;}#sk-container-id-2 input.sk-toggleable__control:checked~label.sk-toggleable__label-arrow:before {content: \"▾\";}#sk-container-id-2 div.sk-estimator input.sk-toggleable__control:checked~label.sk-toggleable__label {background-color: #d4ebff;}#sk-container-id-2 div.sk-label input.sk-toggleable__control:checked~label.sk-toggleable__label {background-color: #d4ebff;}#sk-container-id-2 input.sk-hidden--visually {border: 0;clip: rect(1px 1px 1px 1px);clip: rect(1px, 1px, 1px, 1px);height: 1px;margin: -1px;overflow: hidden;padding: 0;position: absolute;width: 1px;}#sk-container-id-2 div.sk-estimator {font-family: monospace;background-color: #f0f8ff;border: 1px dotted black;border-radius: 0.25em;box-sizing: border-box;margin-bottom: 0.5em;}#sk-container-id-2 div.sk-estimator:hover {background-color: #d4ebff;}#sk-container-id-2 div.sk-parallel-item::after {content: \"\";width: 100%;border-bottom: 1px solid gray;flex-grow: 1;}#sk-container-id-2 div.sk-label:hover label.sk-toggleable__label {background-color: #d4ebff;}#sk-container-id-2 div.sk-serial::before {content: \"\";position: absolute;border-left: 1px solid gray;box-sizing: border-box;top: 0;bottom: 0;left: 50%;z-index: 0;}#sk-container-id-2 div.sk-serial {display: flex;flex-direction: column;align-items: center;background-color: white;padding-right: 0.2em;padding-left: 0.2em;position: relative;}#sk-container-id-2 div.sk-item {position: relative;z-index: 1;}#sk-container-id-2 div.sk-parallel {display: flex;align-items: stretch;justify-content: center;background-color: white;position: relative;}#sk-container-id-2 div.sk-item::before, #sk-container-id-2 div.sk-parallel-item::before {content: \"\";position: absolute;border-left: 1px solid gray;box-sizing: border-box;top: 0;bottom: 0;left: 50%;z-index: -1;}#sk-container-id-2 div.sk-parallel-item {display: flex;flex-direction: column;z-index: 1;position: relative;background-color: white;}#sk-container-id-2 div.sk-parallel-item:first-child::after {align-self: flex-end;width: 50%;}#sk-container-id-2 div.sk-parallel-item:last-child::after {align-self: flex-start;width: 50%;}#sk-container-id-2 div.sk-parallel-item:only-child::after {width: 0;}#sk-container-id-2 div.sk-dashed-wrapped {border: 1px dashed gray;margin: 0 0.4em 0.5em 0.4em;box-sizing: border-box;padding-bottom: 0.4em;background-color: white;}#sk-container-id-2 div.sk-label label {font-family: monospace;font-weight: bold;display: inline-block;line-height: 1.2em;}#sk-container-id-2 div.sk-label-container {text-align: center;}#sk-container-id-2 div.sk-container {/* jupyter's `normalize.less` sets `[hidden] { display: none; }` but bootstrap.min.css set `[hidden] { display: none !important; }` so we also need the `!important` here to be able to override the default hidden behavior on the sphinx rendered scikit-learn.org. See: https://github.com/scikit-learn/scikit-learn/issues/21755 */display: inline-block !important;position: relative;}#sk-container-id-2 div.sk-text-repr-fallback {display: none;}</style><div id=\"sk-container-id-2\" class=\"sk-top-container\"><div class=\"sk-text-repr-fallback\"><pre>PCA(n_components=2)</pre><b>In a Jupyter environment, please rerun this cell to show the HTML representation or trust the notebook. <br />On GitHub, the HTML representation is unable to render, please try loading this page with nbviewer.org.</b></div><div class=\"sk-container\" hidden><div class=\"sk-item\"><div class=\"sk-estimator sk-toggleable\"><input class=\"sk-toggleable__control sk-hidden--visually\" id=\"sk-estimator-id-2\" type=\"checkbox\" checked><label for=\"sk-estimator-id-2\" class=\"sk-toggleable__label sk-toggleable__label-arrow\">PCA</label><div class=\"sk-toggleable__content\"><pre>PCA(n_components=2)</pre></div></div></div></div></div>"
      ],
      "text/plain": [
       "PCA(n_components=2)"
      ]
     },
     "execution_count": 12,
     "metadata": {},
     "output_type": "execute_result"
    }
   ],
   "source": [
    "pca.fit(scaled_data)"
   ]
  },
  {
   "cell_type": "code",
   "execution_count": null,
   "metadata": {
    "id": "q3mqlot9nVNh"
   },
   "outputs": [],
   "source": [
    "x_pca=pca.transform(scaled_data)"
   ]
  },
  {
   "cell_type": "code",
   "execution_count": null,
   "metadata": {
    "colab": {
     "base_uri": "https://localhost:8080/"
    },
    "id": "a_YTfm-5np-Q",
    "outputId": "c05c39dc-9179-4b02-9bd1-4adbee3a78f0"
   },
   "outputs": [
    {
     "data": {
      "text/plain": [
       "(650, 15)"
      ]
     },
     "execution_count": 14,
     "metadata": {},
     "output_type": "execute_result"
    }
   ],
   "source": [
    "scaled_data.shape"
   ]
  },
  {
   "cell_type": "code",
   "execution_count": null,
   "metadata": {
    "colab": {
     "base_uri": "https://localhost:8080/"
    },
    "id": "gTYqAbwHntwP",
    "outputId": "6e828dce-bc2a-4abb-f7ea-1c65152adf9d"
   },
   "outputs": [
    {
     "data": {
      "text/plain": [
       "(650, 2)"
      ]
     },
     "execution_count": 15,
     "metadata": {},
     "output_type": "execute_result"
    }
   ],
   "source": [
    "x_pca.shape"
   ]
  },
  {
   "cell_type": "code",
   "execution_count": null,
   "metadata": {
    "colab": {
     "base_uri": "https://localhost:8080/"
    },
    "id": "EbLKaJYboBEO",
    "outputId": "4edf431d-e213-4150-a366-7b80074719de"
   },
   "outputs": [
    {
     "data": {
      "text/plain": [
       "array([[ 0.41544532,  1.0693801 ,  0.06835764, ...,  0.49446675,\n",
       "        -0.30783169,  1.70065151],\n",
       "       [-0.90761641,  0.35180072, -0.20921452, ..., -0.97354798,\n",
       "        -0.04645593,  1.70065151],\n",
       "       [-0.22071323,  0.99139124, -0.13955214, ..., -0.95154215,\n",
       "        -0.71447458,  1.70065151],\n",
       "       ...,\n",
       "       [-1.1715228 , -0.38863276, -0.7996348 , ..., -0.7563127 ,\n",
       "         0.42977417, -0.58800994],\n",
       "       [-1.31577559, -0.87231212, -0.9806733 , ..., -1.04664737,\n",
       "        -0.13414208, -0.58800994],\n",
       "       [ 0.93487094, -0.42405758,  0.20972179, ...,  1.08543549,\n",
       "        -0.05610942, -0.58800994]])"
      ]
     },
     "execution_count": 16,
     "metadata": {},
     "output_type": "execute_result"
    }
   ],
   "source": [
    "scaled_data"
   ]
  },
  {
   "cell_type": "code",
   "execution_count": null,
   "metadata": {
    "colab": {
     "base_uri": "https://localhost:8080/"
    },
    "id": "oGp5VsaioHU_",
    "outputId": "2c0a5879-5ee1-41fe-f3df-438dcd351c01"
   },
   "outputs": [
    {
     "data": {
      "text/plain": [
       "array([[-2.11763163, -1.40218801],\n",
       "       [ 0.95024335, -0.86537704],\n",
       "       [-0.85693035, -1.63654957],\n",
       "       ...,\n",
       "       [ 2.36462515, -0.86281123],\n",
       "       [ 3.60497973,  0.28356954],\n",
       "       [-0.24519666,  1.66382904]])"
      ]
     },
     "execution_count": 17,
     "metadata": {},
     "output_type": "execute_result"
    }
   ],
   "source": [
    "x_pca"
   ]
  },
  {
   "cell_type": "code",
   "execution_count": null,
   "metadata": {
    "colab": {
     "base_uri": "https://localhost:8080/",
     "height": 405
    },
    "id": "6BZnRLfuoYgK",
    "outputId": "f33983fb-5f6a-4b57-f6c6-9d6fe330f399"
   },
   "outputs": [
    {
     "data": {
      "text/plain": [
       "Text(0, 0.5, 'Second Principal Component')"
      ]
     },
     "execution_count": 20,
     "metadata": {},
     "output_type": "execute_result"
    },
    {
     "data": {
      "image/png": "[encoded data removed]",
      "text/plain": [
       "<Figure size 576x432 with 1 Axes>"
      ]
     },
     "metadata": {
      "needs_background": "light"
     },
     "output_type": "display_data"
    }
   ],
   "source": [
    "plt.figure(figsize=(8,6))\n",
    "plt.scatter(x_pca[:,0],x_pca[:,1],c=df['Class'])\n",
    "plt.xlabel('First Principal Component')\n",
    "plt.ylabel('Second Principal Component')"
   ]
  },
  {
   "cell_type": "code",
   "execution_count": null,
   "metadata": {
    "id": "JKDAi7gm0oxL"
   },
   "outputs": [],
   "source": [
    "X=x_pca\n",
    "Y=df[\"Class\"].values"
   ]
  },
  {
   "cell_type": "code",
   "execution_count": null,
   "metadata": {
    "id": "fjFs49eYyLmy"
   },
   "outputs": [],
   "source": [
    "x_train, x_test, y_train, y_test= train_test_split(X, Y,\n",
    "                                                   test_size= 0.2,\n",
    "                                                   shuffle= True, #shuffle the data to avoid bias\n",
    "                                                   random_state= 0)\n",
    "x_train= np.asarray(x_train)\n",
    "y_train= np.asarray(y_train)\n",
    "\n",
    "x_test= np.asarray(x_test)\n",
    "y_test= np.asarray(y_test)"
   ]
  },
  {
   "cell_type": "code",
   "execution_count": null,
   "metadata": {
    "colab": {
     "base_uri": "https://localhost:8080/"
    },
    "id": "CXeYe5FbyNxB",
    "outputId": "66ba66c2-3fb2-4537-93bd-60f3573c7f75"
   },
   "outputs": [
    {
     "name": "stdout",
     "output_type": "stream",
     "text": [
      "training set size: 520 samples \n",
      "test set size: 130 samples\n"
     ]
    }
   ],
   "source": [
    "print(f'training set size: {x_train.shape[0]} samples \\ntest set size: {x_test.shape[0]} samples')"
   ]
  },
  {
   "cell_type": "code",
   "execution_count": null,
   "metadata": {
    "id": "lSxA6iWgyroe"
   },
   "outputs": [],
   "source": [
    "scaler= Normalizer().fit(x_train) # the scaler is fitted to the training set\n",
    "normalized_x_train= scaler.transform(x_train) # the scaler is applied to the training set\n",
    "normalized_x_test= scaler.transform(x_test) # the scaler is applied to the test set"
   ]
  },
  {
   "cell_type": "code",
   "execution_count": null,
   "metadata": {
    "colab": {
     "base_uri": "https://localhost:8080/"
    },
    "id": "rWY6wcLvyw3E",
    "outputId": "47b7e718-0c49-4705-e5f5-2fabe19b749e"
   },
   "outputs": [
    {
     "name": "stdout",
     "output_type": "stream",
     "text": [
      "x train before Normalization\n",
      "[[-1.72384181 -1.45452451]\n",
      " [ 1.84631269  2.69301092]\n",
      " [ 3.36923227  0.05269931]\n",
      " [-1.41611283  2.98608534]\n",
      " [-2.11910522 -1.82231647]]\n",
      "\n",
      "x train after Normalization\n",
      "[[-0.76428428 -0.64487948]\n",
      " [ 0.56546099  0.82477504]\n",
      " [ 0.9998777   0.01563943]\n",
      " [-0.42849441  0.90354443]\n",
      " [-0.75820536 -0.65201582]]\n"
     ]
    }
   ],
   "source": [
    "print('x train before Normalization')\n",
    "print(x_train[0:5])\n",
    "print('\\nx train after Normalization')\n",
    "print(normalized_x_train[0:5])"
   ]
  },
  {
   "cell_type": "code",
   "execution_count": null,
   "metadata": {
    "id": "8_XWGpSYzQbC"
   },
   "outputs": [],
   "source": [
    "def distance_ecu(x_train, x_test_point):\n",
    "  \"\"\"\n",
    "  Input:\n",
    "    - x_train: corresponding to the training data\n",
    "    - x_test_point: corresponding to the test point\n",
    "\n",
    "  Output:\n",
    "    -distances: The distances between the test point and each point in the training data.\n",
    "\n",
    "  \"\"\"\n",
    "  distances= []  ## create empty list called distances\n",
    "  for row in range(len(x_train)): ## Loop over the rows of x_train\n",
    "      current_train_point= x_train[row] #Get them point by point\n",
    "      current_distance= 0 ## initialize the distance by zero\n",
    "\n",
    "      for col in range(len(current_train_point)): ## Loop over the columns of the row\n",
    "          \n",
    "          current_distance += (current_train_point[col] - x_test_point[col]) **2\n",
    "          ## Or current_distance = current_distance + (x_train[i] - x_test_point[i])**2\n",
    "      current_distance= np.sqrt(current_distance)\n",
    "\n",
    "      distances.append(current_distance) ## Append the distances\n",
    "\n",
    "  # Store distances in a dataframe\n",
    "  distances= pd.DataFrame(data=distances,columns=['dist'])\n",
    "  return distances"
   ]
  },
  {
   "cell_type": "code",
   "execution_count": null,
   "metadata": {
    "id": "F36pR2h1zd6x"
   },
   "outputs": [],
   "source": [
    "def voting(df_nearest, y_train):\n",
    "    \"\"\"\n",
    "    Input:\n",
    "        -df_nearest: dataframe contains the nearest K neighbors between the full training dataset and the test point.\n",
    "        -y_train: the labels of the training dataset.\n",
    "\n",
    "    Output:\n",
    "        -y_pred: the prediction based on Majority Voting\n",
    "\n",
    "    \"\"\"\n",
    "\n",
    "    ## Use the Counter Object to get the labels with K nearest neighbors.\n",
    "    counter_vote= Counter(y_train[df_nearest.index])\n",
    "\n",
    "    y_pred= counter_vote.most_common()[0][0]   # Majority Voting\n",
    "\n",
    "    return y_pred"
   ]
  },
  {
   "cell_type": "code",
   "execution_count": null,
   "metadata": {
    "id": "jS9cXo2R0w-x"
   },
   "outputs": [],
   "source": [
    "def nearest_neighbors(distance_point, K):\n",
    "    \"\"\"\n",
    "    Input:\n",
    "        -distance_point: the distances between the test point and each point in the training data.\n",
    "        -K             : the number of neighbors\n",
    "\n",
    "    Output:\n",
    "        -df_nearest: the nearest K neighbors between the test point and the training data.\n",
    "\n",
    "    \"\"\"\n",
    "\n",
    "    # Sort values using the sort_values function\n",
    "    df_nearest= distance_point.sort_values(by=['dist'], axis=0)\n",
    "\n",
    "    ## Take only the first K neighbors\n",
    "    df_nearest= df_nearest[:K]\n",
    "    return df_nearest"
   ]
  },
  {
   "cell_type": "code",
   "execution_count": null,
   "metadata": {
    "id": "FncjsTnkzliy"
   },
   "outputs": [],
   "source": [
    "def KNN_from_scratch(x_train, y_train, x_test, K):\n",
    "\n",
    "    \"\"\"\n",
    "    Input:\n",
    "    -x_train: the full training dataset\n",
    "    -y_train: the labels of the training dataset\n",
    "    -x_test: the full test dataset\n",
    "    -K: the number of neighbors\n",
    "\n",
    "    Output:\n",
    "    -y_pred: the prediction for the whole test set based on Majority Voting.\n",
    "\n",
    "    \"\"\"\n",
    "\n",
    "    y_pred=[]\n",
    "\n",
    "    ## Loop over all the test set and perform the three steps\n",
    "    for x_test_point in x_test:\n",
    "      distance_point  = distance_ecu(x_train, x_test_point)  ## Step 1\n",
    "      df_nearest_point= nearest_neighbors(distance_point, K)  ## Step 2\n",
    "      y_pred_point    = voting(df_nearest_point, y_train) ## Step 3\n",
    "      y_pred.append(y_pred_point)\n",
    "\n",
    "    return y_pred  "
   ]
  },
  {
   "cell_type": "code",
   "execution_count": null,
   "metadata": {
    "colab": {
     "base_uri": "https://localhost:8080/"
    },
    "id": "JRLBXFfjzob6",
    "outputId": "564f8b21-98bf-44f5-a8e4-9b42890ab5c8"
   },
   "outputs": [
    {
     "name": "stdout",
     "output_type": "stream",
     "text": [
      "[False, False, False, False, False, False, False, True, False, False, False, False, False, False, False, False, False, True, False, False, False, False, False, False, False, True, False, True, False, False, True, False, False, True, True, False, False, False, False, False, False, False, False, False, False, False, False, True, False, False, False, False, False, False, False, False, False, False, True, False, False, False, False, False, False, False, False, False, False, True, True, False, False, False, False, False, False, False, False, False, False, False, False, False, True, False, True, False, False, False, True, False, False, False, True, False, False, False, False, False, True, False, False, True, True, False, False, False, False, False, False, False, False, False, False, False, False, True, True, False, True, False, True, False, False, False, True, False, False, True]\n"
     ]
    }
   ],
   "source": [
    "K=3\n",
    "y_pred_scratch= KNN_from_scratch(normalized_x_train, y_train, normalized_x_test, K)\n",
    "print(y_pred_scratch)"
   ]
  },
  {
   "cell_type": "code",
   "execution_count": null,
   "metadata": {
    "colab": {
     "base_uri": "https://localhost:8080/"
    },
    "id": "bTrLALzC078T",
    "outputId": "053c0966-7462-4cbc-a3b8-82462e8cfbcb"
   },
   "outputs": [
    {
     "name": "stdout",
     "output_type": "stream",
     "text": [
      "[False False False False False False False  True False False False False\n",
      " False False False False False  True False False False False False False\n",
      " False  True False  True False False  True False False  True  True False\n",
      " False False False False False False False False False False False  True\n",
      " False False False False False False False False False False  True False\n",
      " False False False False False False False False False  True  True False\n",
      " False False False False False False False False False False False False\n",
      "  True False  True False False False  True False False False  True False\n",
      " False False False False  True False False  True  True False False False\n",
      " False False False False False False False False False  True  True False\n",
      "  True False  True False False False  True False False  True]\n"
     ]
    }
   ],
   "source": [
    "knn=KNeighborsClassifier(K)\n",
    "knn.fit(normalized_x_train, y_train)\n",
    "y_pred_sklearn= knn.predict(normalized_x_test)\n",
    "print(y_pred_sklearn)"
   ]
  },
  {
   "cell_type": "code",
   "execution_count": null,
   "metadata": {
    "colab": {
     "base_uri": "https://localhost:8080/"
    },
    "id": "9A0BaLpz0_oB",
    "outputId": "e7c6908c-71cb-4674-c81f-d894c645b927"
   },
   "outputs": [
    {
     "name": "stdout",
     "output_type": "stream",
     "text": [
      "True\n"
     ]
    }
   ],
   "source": [
    "print(np.array_equal(y_pred_sklearn, y_pred_scratch))"
   ]
  },
  {
   "cell_type": "code",
   "execution_count": null,
   "metadata": {
    "colab": {
     "base_uri": "https://localhost:8080/"
    },
    "id": "dcMx2MXM1BWT",
    "outputId": "2dfc32b2-200b-404e-a96e-36252e2bce95"
   },
   "outputs": [
    {
     "name": "stdout",
     "output_type": "stream",
     "text": [
      "The accuracy of our implementation is 0.6692307692307692\n",
      "The accuracy of sklearn implementation is 0.6692307692307692\n"
     ]
    }
   ],
   "source": [
    "print(f'The accuracy of our implementation is {accuracy_score(y_test, y_pred_scratch)}')\n",
    "print(f'The accuracy of sklearn implementation is {accuracy_score(y_test, y_pred_sklearn)}')"
   ]
  },
  {
   "cell_type": "code",
   "execution_count": null,
   "metadata": {
    "id": "56vWvHIm1G3K"
   },
   "outputs": [],
   "source": [
    "n_splits= 4 ## Choose the number of splits\n",
    "kf= KFold(n_splits= n_splits) ## Call the K Fold function\n",
    "\n",
    "accuracy_k= [] ## Keep track of the accuracy for each K\n",
    "k_values= list(range(1,30,2)) ## Search for the best value of K\n",
    "\n",
    "for k in k_values: ## Loop over the K values\n",
    "  accuracy_fold= 0\n",
    "  for normalized_x_train_fold_idx, normalized_x_valid_fold_idx in  kf.split(normalized_x_train): ## Loop over the splits\n",
    "      normalized_x_train_fold= normalized_x_train[normalized_x_train_fold_idx] ## fetch the values\n",
    "      y_train_fold= y_train[normalized_x_train_fold_idx]\n",
    "\n",
    "      normalized_x_test_fold= normalized_x_train[normalized_x_valid_fold_idx]\n",
    "      y_valid_fold= y_train[normalized_x_valid_fold_idx]\n",
    "      y_pred_fold= KNN_from_scratch(normalized_x_train_fold, y_train_fold, normalized_x_test_fold, k)\n",
    "\n",
    "      accuracy_fold+= accuracy_score (y_pred_fold, y_valid_fold) ## Accumulate the accuracy\n",
    "  accuracy_fold= accuracy_fold/ n_splits ## Divide by the number of splits\n",
    "  accuracy_k.append(accuracy_fold)"
   ]
  },
  {
   "cell_type": "code",
   "execution_count": null,
   "metadata": {
    "colab": {
     "base_uri": "https://localhost:8080/"
    },
    "id": "5HvPvUE41Xbp",
    "outputId": "c0459201-baa0-40f2-a263-60b3c89bea94"
   },
   "outputs": [
    {
     "name": "stdout",
     "output_type": "stream",
     "text": [
      "The accuracy for each K value was [(0.6326923076923078, 1), (0.6942307692307692, 3), (0.6865384615384615, 5), (0.7192307692307692, 7), (0.7288461538461538, 9), (0.7307692307692308, 11), (0.7403846153846154, 13), (0.7384615384615385, 15), (0.7442307692307693, 17), (0.7442307692307693, 19), (0.7346153846153847, 21), (0.7346153846153847, 23), (0.7384615384615385, 25), (0.7326923076923078, 27), (0.7384615384615385, 29)]\n"
     ]
    }
   ],
   "source": [
    "print(f'The accuracy for each K value was {list ( zip (accuracy_k, k_values))}') ## creates a tuple with accuracy corresponding to k value"
   ]
  },
  {
   "cell_type": "code",
   "execution_count": null,
   "metadata": {
    "colab": {
     "base_uri": "https://localhost:8080/"
    },
    "id": "XWA9HajE1YnO",
    "outputId": "78fba81f-9eff-40fe-e4e2-a81459d03002"
   },
   "outputs": [
    {
     "name": "stdout",
     "output_type": "stream",
     "text": [
      "Best accuracy was 0.7442307692307693, which corresponds to a value of K= 17\n"
     ]
    }
   ],
   "source": [
    "print(f'Best accuracy was {np.max(accuracy_k)}, which corresponds to a value of K= {k_values[np.argmax(accuracy_k)]}')"
   ]
  },
  {
   "cell_type": "code",
   "execution_count": null,
   "metadata": {
    "colab": {
     "base_uri": "https://localhost:8080/"
    },
    "id": "BVAugTMDDh-f",
    "outputId": "2a8e1d1c-59f2-4a6d-ebf1-54b592a903ca"
   },
   "outputs": [
    {
     "data": {
      "text/plain": [
       "0.5058651026392962"
      ]
     },
     "execution_count": 44,
     "metadata": {},
     "output_type": "execute_result"
    }
   ],
   "source": [
    "auc_score = roc_auc_score(y_test, y_pred_scratch)\n",
    "auc_score"
   ]
  },
  {
   "cell_type": "code",
   "execution_count": null,
   "metadata": {
    "colab": {
     "base_uri": "https://localhost:8080/",
     "height": 295
    },
    "id": "S4gPBrdwDEgV",
    "outputId": "c690966c-9ddf-4086-d0d7-18aa70f4dff0"
   },
   "outputs": [
    {
     "data": {
      "image/png": "[encoded data removed]",
      "text/plain": [
       "<Figure size 432x288 with 1 Axes>"
      ]
     },
     "metadata": {
      "needs_background": "light"
     },
     "output_type": "display_data"
    }
   ],
   "source": [
    "fpr, tpr, _ = roc_curve(y_test, y_pred_scratch)\n",
    "plt.plot(fpr, tpr, label='AUC = {:.2f}'.format(auc_score))\n",
    "# Add labels and title to plot\n",
    "plt.xlabel('False Positive Rate')\n",
    "plt.ylabel('True Positive Rate')\n",
    "plt.title('Receiver Operating Characteristic (ROC) Curve')\n",
    "plt.legend(loc='lower right')\n",
    "# Show the plot\n",
    "plt.show()"
   ]
  }
 ],
 "metadata": {
  "colab": {
   "provenance": []
  },
  "kernelspec": {
   "display_name": "Python 3 (ipykernel)",
   "language": "python",
   "name": "python3"
  },
  "language_info": {
   "codemirror_mode": {
    "name": "ipython",
    "version": 3
   },
   "file_extension": ".py",
   "mimetype": "text/x-python",
   "name": "python",
   "nbconvert_exporter": "python",
   "pygments_lexer": "ipython3",
   "version": "3.9.13"
  }
 },
 "nbformat": 4,
 "nbformat_minor": 1
}
